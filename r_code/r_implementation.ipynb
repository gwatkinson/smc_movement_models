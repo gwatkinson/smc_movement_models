{
 "cells": [
  {
   "cell_type": "markdown",
   "metadata": {},
   "source": [
    "# Codes sent Dec 06 2022 written by Ruth Joy for Gabriel Guaquiere"
   ]
  },
  {
   "cell_type": "code",
   "execution_count": null,
   "metadata": {
    "vscode": {
     "languageId": "r"
    }
   },
   "outputs": [],
   "source": [
    "############################################################\n",
    "#\n",
    "# Codes sent Dec 06 2022 written by Ruth Joy for Gabriel Guaquiere\n",
    "# \n",
    "# \n",
    "############################################################\n",
    "install.packages(\"mvtnorm\");library(mvtnorm)\n",
    "install.packages(\"ggplot2\");library(ggplot2)"
   ]
  },
  {
   "cell_type": "code",
   "execution_count": null,
   "metadata": {
    "vscode": {
     "languageId": "r"
    }
   },
   "outputs": [],
   "source": [
    "####################\n",
    "# offline, compute system noise (sig.e) and obs error variance (sig.o.bar)\n",
    "# note we set obs error variance as a constant (sig.o.bar)\n",
    "rm(list=ls())\n",
    "####################\n",
    "\n",
    "# setwd(\"/Users/rutherford/Desktop/SMRU/Jenny Smith\")\n",
    "JS.4121=read.csv(\"data/4121_filtervelocity_PostThesis.csv\")\n",
    "idx=362:239315 # index only for non NA values at begin/end of time series\n",
    "\n",
    "# linear infill for NA's in Calib_Depth\n",
    "S=approx(idx,JS.4121$Calib_Depth[idx],xout=(idx),method=\"linear\",rule=2)\n",
    "\n",
    "# create data series vertical \"speed\"\n",
    "depth=S$y\n",
    "speed=diff(depth,lag=1)"
   ]
  },
  {
   "cell_type": "code",
   "execution_count": null,
   "metadata": {
    "vscode": {
     "languageId": "r"
    }
   },
   "outputs": [],
   "source": [
    "####################\n",
    "# Compute ACF\n",
    "####################\n",
    "\n",
    "# set up stuff\n",
    "ns=length(speed)\n",
    "ts=1:ns\n",
    "width=360; #% window with in index units (=5 sec) for 30 minutes. \n",
    "overlap=180; #% overlap of adjacent windows. \n",
    "nw=floor((length(ts)/(width-overlap) )-1); #% number of windows to use\n",
    "maxlag=150; #% maximum lag to use for auto-correlation function (ACF)\n",
    "\n",
    "ACFacc=matrix(NA,maxlag+1,nw); #% accumulator for ACF, \n",
    "ACVacc=matrix(NA,maxlag+1,nw); #% accumulator for ACV \n",
    "speedacc=matrix(NA,nw,1) # accumulator for mean of absolute value of speed[window]\n",
    "varacc=matrix(NA,nw,1) # accumulator for variance of speed[]\n",
    "intcpt=matrix(NA,nw,1) # accumulator for estimate of observation error for each window\n",
    "ar1acc=matrix(NA,nw,1) # accumulator for ar1 coeff from arima function\n",
    "## moving window shifts by 400 units each step through k \n",
    "## if k=1 then window=(401:1200)-400 = 1:800\n",
    "k=1 \n",
    "for (k in k:nw){\n",
    "\twindow=((k)*(width-overlap)+1):((k+1)*(width-overlap)+overlap); \n",
    "\twindow=window-overlap #if k=1, then 1:800\t\n",
    "    spd=speed[window]; #% extract the speed in the window\n",
    "    ACVacc[,k]=acf(spd, lag.max = maxlag,type = c(\"covariance\"),na.action=na.pass, plot=FALSE)$acf; \n",
    "    ACFacc[,k]=acf(spd, lag.max = maxlag,type = c(\"correlation\"),na.action=na.pass, plot=FALSE)$acf; \n",
    "# insert a few 'ifelse' statements to \n",
    "# 1) account for it entire record is 0's\n",
    "# 2) convergence issues then use index k-1 value\n",
    "    ar1acc[k]=ifelse(is.numeric(try(arima(spd, order=c(1,0,0))$coef[1],TRUE)),arima(spd, order=c(1,0,0))$coef[1],ifelse(sum(spd)==0,0,ar1acc[k-1]))\n",
    "\tvaracc[k]=var(spd)\n",
    "\tspeedacc[k]=mean(abs(spd))\n",
    "\ty=ACVacc[(1:5)+1,k]\n",
    "\ty.lm=lm(y~c(1:5)+c(1:5)^2)\n",
    "\tintcpt[k]=y.lm$coef[1]\n",
    "\tif (k%%25==0) print(k) # print every 25th 'iw'\n",
    "}"
   ]
  },
  {
   "cell_type": "code",
   "execution_count": null,
   "metadata": {
    "vscode": {
     "languageId": "r"
    }
   },
   "outputs": [],
   "source": [
    "##############\n",
    "# Compute the mean observation error variance\n",
    "##############\n",
    "sig.o=varacc-intcpt\n",
    "sig.o.bar=mean(sig.o)\n",
    "sig.x=varacc-sig.o.bar"
   ]
  },
  {
   "cell_type": "code",
   "execution_count": null,
   "metadata": {
    "vscode": {
     "languageId": "r"
    }
   },
   "outputs": [],
   "source": [
    "##############\n",
    "# make model for process variance vs. speed\n",
    "##############\n",
    "y=sig.x[sig.x>0]\n",
    "x=speedacc[sig.x>0] # mean(abs(speed)), but only use those average speeds where process error is > 0\n",
    "y.lm=lm(y~0+x+I(x^2))\n",
    "\tbeta1=y.lm$coefficients[1]\n",
    "\tbeta2=y.lm$coefficients[2]\n",
    "sig.x.hat=beta1*speedacc+beta2*(speedacc^2)"
   ]
  },
  {
   "cell_type": "code",
   "execution_count": null,
   "metadata": {
    "vscode": {
     "languageId": "r"
    }
   },
   "outputs": [],
   "source": [
    "##############\n",
    "# make model for system noise variance vs. speed\n",
    "# derived from process variance above\n",
    "##############\n",
    "sig.e = sig.x.hat*(1-ar1acc^2)\n",
    "# set min threshold for sig.e to prevent sig.e from being ~ 0 \n",
    "sig.e[sig.e<0.035]=0.035"
   ]
  },
  {
   "cell_type": "code",
   "execution_count": null,
   "metadata": {
    "vscode": {
     "languageId": "r"
    }
   },
   "outputs": [],
   "source": [
    "##############\n",
    "# Plot to see that sys noise variance scales with speed. \n",
    "##############\n",
    "dev.off()\n",
    "quartz(height=5,width=10);par(oma=c(3,5,3,5),mar=rep(0,4))\n",
    "plot(speed,axes=F,col=\"gray75\",type=\"l\");axis(2,las=2)\n",
    "\tmtext(side=2,\"speed\",line=3)\n",
    "par(new=T)\n",
    "plot(sig.e,type=\"o\",axes=F,cex=.6,pch=16,ylab=\"\")\n",
    "\taxis(4,las=2)\n",
    "\tmtext(side=4,\"sig.e\",line=3)"
   ]
  },
  {
   "cell_type": "code",
   "execution_count": null,
   "metadata": {
    "vscode": {
     "languageId": "r"
    }
   },
   "outputs": [],
   "source": [
    "############################################################\n",
    "# normal mixture code\n",
    "normix=function(n,p,sig1,sig2)\n",
    "{\n",
    "# distribution 1\n",
    "# distribution 2\n",
    "idx=rbinom(n,1,p)\n",
    "e = c(rnorm(n,mean=0,sd=sig1)[idx==0], rnorm(n,mean=0,sd=sig2)[idx==1])\n",
    "return(e)\n",
    "}"
   ]
  },
  {
   "cell_type": "code",
   "execution_count": null,
   "metadata": {
    "vscode": {
     "languageId": "r"
    }
   },
   "outputs": [],
   "source": [
    "############################################################\n",
    "# mixture random walk codes\n",
    "rw=function(xold,sigp)\n",
    "{\n",
    "#% single stage transition of the (deterministic) model\n",
    "#% inputs: \n",
    "#% xold - state at time t-1\n",
    "#% theta - parameter vector\n",
    "#% outputs:\n",
    "#% xnew - state at time t+1\n",
    "  \n",
    "a1=xold[3]; xnewp1=xold[3]+sigp*rnorm(1) # update a1\n",
    "a2=xold[4]; xnewp2=xold[4]+sigp*rnorm(1) # update a2\n",
    "# sig.n=exp(xold[5]); xnewp3=xold[5]+sigp*xold[5]*rnorm(1) # update system noise as a function of size at ast time interval\n",
    "\t\t\t# could also use sigp to scale the forcing.\n",
    "\n",
    "#% model: bivariate AR(1)\n",
    "# update state using \"old\" values\n",
    "\tD=matrix(c(a1, a2, 1, 0),ncol=2,byrow=T);\n",
    "\tn=matrix(c(normix(n=1,p=0.025,sig1=sig.n,sig2=10*sig.n),0));\n",
    "xnews=D%*%matrix(xold[1:2],2,1)+n;\n",
    "\n",
    "xnew=matrix(c(xnews, xnewp1, xnewp2),4,1)\n",
    "return(xnew)\n",
    "}"
   ]
  },
  {
   "cell_type": "code",
   "execution_count": null,
   "metadata": {
    "vscode": {
     "languageId": "r"
    }
   },
   "outputs": [],
   "source": [
    "############################################################\n",
    "# particle filter codes \n",
    "pfilter=function(param,psig,y)\n",
    "{\n",
    "# accumulators for mean and variance of filtered state\n",
    "xbar=matrix(NA,nt,nstate); # filter mean\n",
    "\n",
    "# setup initial particle positions\n",
    "xas=sig.i*matrix(rnorm(np*ns),np,ns); # original state np x 2\n",
    "xap1=matrix(param[1],np,1) # parameter 1\n",
    "xap2=matrix(param[2],np,1) # parameter 2\n",
    "\n",
    "xa=cbind(xas,xap1,xap2)\n",
    "\n",
    "#% compute mean and variance for initial conditions\n",
    "xbar[1,]=colMeans(xa); \n",
    "\n",
    "\n",
    "# ==== FILTER/ SMOOTHER IMPLEMENTATION\n",
    "for (k in 1:nt)  # start time loop\n",
    "{\n",
    "\t# === prediction step - yields forecast ensemble\n",
    "xf=t(apply(xa,1,rw,psig)) # predict state forward one time step\n",
    "\n",
    "\t#% === measurement step - yields nowcast ensemble\n",
    "\t# assign weights to each particle (prop to MVN likelihood)\n",
    "w=apply(matrix(xf[,1],np,1),1,dmvnorm,x=y[k],sigma=R)\n",
    "\n",
    "\t# carry out weighted resample on forecast ensemble\n",
    "m=sample(1:np,size=np,prob=w,replace=T);\n",
    "\n",
    "\t# resample forecast to yield analysis\n",
    "xa=xf[m,] \t\t\t# here: \"a\" means analysis, \"f\" means forecast)\n",
    "xbar[k,]=apply(xa,2,mean); \t# compute mean\n",
    "\n",
    "} # end k, for\n",
    "\n",
    "return(xbar)\n",
    "}"
   ]
  },
  {
   "cell_type": "code",
   "execution_count": null,
   "metadata": {
    "vscode": {
     "languageId": "r"
    }
   },
   "outputs": [],
   "source": [
    "############################################\n",
    "# \n",
    "# Running my adaptation of Ionides MIF\n",
    "# You'll have to bring in 3 things for this to work (maybe more?)\n",
    "# (1) your vertical speed data, \n",
    "# (2) sig.o.bar (obs error), \n",
    "# (3) sig.e (system error)\n",
    "#\n",
    "############################################\n",
    "\n",
    "numw=floor((length(speed)/(width-overlap) )-1); \n",
    "paramMIF=matrix(NA,numw,2) \n",
    "paramMIF[1,]=c(0,0)\n",
    "np=2000; # number of particles, or sample size (put as small number (np=10) until you're sure code is working)\n",
    "nt=width # no. of timesteps \n",
    "\n",
    "ns=2 # number of original state variables\n",
    "nparam=2 # number of dynamic parameters to be made part of state\n",
    "nstate=ns+nparam # total size of augmented state\n",
    "\n",
    "niter=12\n",
    "iter=1\n",
    "\n",
    "sig.o=sqrt(sig.o.bar) \t # observation error std dev\n",
    "#Id=matrix(0,ncol(y),ncol(y)); diag(Id)=1; R=(sig.o^2)*Id; \n",
    "R=matrix(sig.o^2)\n",
    "\n",
    "sig.n=sqrt(sig.e) \t # system noise variance\n",
    "\n",
    "alpha=0.4 # rampdown effect\n",
    "sigpi=0.1 # initial value for forcing for augmented state parameters\n",
    "sigp=sapply(1:(niter-1),function(i) (sigpi)*alpha^i)\n",
    "\n",
    "sig.i=1 \t\t\t\t # variance for the initial conditions\n",
    "theta=c(sig.i)\t\t # vector of static parameters (passed to model subroutine)\n"
   ]
  },
  {
   "cell_type": "code",
   "execution_count": null,
   "metadata": {
    "vscode": {
     "languageId": "r"
    }
   },
   "outputs": [],
   "source": [
    "############################################\n",
    "# LOOPING THROUGH \"iw\" windows\n",
    "############################################\n",
    "for (iw in 1:numw){\n",
    "# for (iw in 2:25){\n",
    "\n",
    "window=((iw-1)*(width-overlap)+1):(iw*(width-overlap)+overlap); \n",
    "\ty=matrix(speed[window])\n",
    "\ty=sweep(y,1,mean(y));\n",
    "\n",
    "# ==== RE-SETUP INSIDE LOOP FOR EACH STEP OF \"iw\"\n",
    "\n",
    "paramvec=matrix(NA,niter,2) # niter x 2 matrix for a1, a2 for niter iter's\n",
    "paramvec[1,]=c(1,0)\n",
    "\n",
    "# MIF unweighted : niter ITERATIONS TO GET TO MLE of STATIC a1, a2 parameters\n",
    "for (iter in 1:(niter-1))\n",
    "{\n",
    "# updates system error, and sigp\n",
    "X=pfilter(param=paramvec[iter,],psig=sigp[iter],y)\n",
    "paramvec[iter+1,]=colMeans(X[,3:4])\t\n",
    "# print(iter)\n",
    "}\n",
    "\n",
    "paramMIF[iw,]=paramvec[niter,]\n",
    "print(iw)\n",
    "} # end iw"
   ]
  }
 ],
 "metadata": {
  "kernelspec": {
   "display_name": "R",
   "language": "R",
   "name": "ir"
  },
  "language_info": {
   "codemirror_mode": "r",
   "file_extension": ".r",
   "mimetype": "text/x-r-source",
   "name": "R",
   "pygments_lexer": "r",
   "version": "4.1.2"
  },
  "vscode": {
   "interpreter": {
    "hash": "5418fe37f9f3eb94898a27ba4ce2cf842e70225e29d3fe7c8ea46cd59e660c81"
   }
  }
 },
 "nbformat": 4,
 "nbformat_minor": 2
}
