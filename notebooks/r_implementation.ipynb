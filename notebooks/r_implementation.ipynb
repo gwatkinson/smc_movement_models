{
 "cells": [
  {
   "cell_type": "markdown",
   "metadata": {},
   "source": [
    "# Codes sent Dec 06 2022 written by Ruth Joy for Gabriel Guaquiere"
   ]
  },
  {
   "cell_type": "code",
   "execution_count": 35,
   "metadata": {
    "vscode": {
     "languageId": "r"
    }
   },
   "outputs": [
    {
     "name": "stderr",
     "output_type": "stream",
     "text": [
      "Installing package into ‘/home/gwatk/R/x86_64-pc-linux-gnu-library/4.1’\n",
      "(as ‘lib’ is unspecified)\n",
      "\n",
      "Installing package into ‘/home/gwatk/R/x86_64-pc-linux-gnu-library/4.1’\n",
      "(as ‘lib’ is unspecified)\n",
      "\n",
      "also installing the dependencies ‘colorspace’, ‘farver’, ‘labeling’, ‘munsell’, ‘RColorBrewer’, ‘viridisLite’, ‘pkgconfig’, ‘gtable’, ‘isoband’, ‘scales’, ‘tibble’\n",
      "\n",
      "\n"
     ]
    }
   ],
   "source": [
    "############################################################\n",
    "#\n",
    "# Codes sent Dec 06 2022 written by Ruth Joy for Gabriel Guaquiere\n",
    "# \n",
    "# \n",
    "############################################################\n",
    "install.packages(\"mvtnorm\");library(mvtnorm)\n",
    "install.packages(\"ggplot2\");library(ggplot2)"
   ]
  },
  {
   "cell_type": "code",
   "execution_count": 10,
   "metadata": {
    "vscode": {
     "languageId": "r"
    }
   },
   "outputs": [],
   "source": [
    "####################\n",
    "# offline, compute system noise (sig.e) and obs error variance (sig.o.bar)\n",
    "# note we set obs error variance as a constant (sig.o.bar)\n",
    "rm(list=ls())\n",
    "####################\n",
    "\n",
    "# setwd(\"/Users/rutherford/Desktop/SMRU/Jenny Smith\")\n",
    "JS.4121=read.csv(\"data/4121_filtervelocity_PostThesis.csv\")\n",
    "idx=362:239315 # index only for non NA values at begin/end of time series\n",
    "\n",
    "# linear infill for NA's in Calib_Depth\n",
    "S=approx(idx,JS.4121$Calib_Depth[idx],xout=(idx),method=\"linear\",rule=2)\n",
    "\n",
    "# create data series vertical \"speed\"\n",
    "depth=S$y\n",
    "speed=diff(depth,lag=1)"
   ]
  },
  {
   "cell_type": "code",
   "execution_count": 11,
   "metadata": {
    "vscode": {
     "languageId": "r"
    }
   },
   "outputs": [
    {
     "name": "stdout",
     "output_type": "stream",
     "text": [
      "[1] 25\n",
      "[1] 50\n",
      "[1] 75\n",
      "[1] 100\n",
      "[1] 125\n",
      "[1] 150\n",
      "[1] 175\n",
      "[1] 200\n",
      "[1] 225\n",
      "[1] 250\n",
      "[1] 275\n",
      "[1] 300\n",
      "[1] 325\n",
      "[1] 350\n",
      "[1] 375\n",
      "[1] 400\n",
      "[1] 425\n",
      "[1] 450\n",
      "[1] 475\n",
      "[1] 500\n",
      "[1] 525\n",
      "[1] 550\n",
      "[1] 575\n",
      "[1] 600\n",
      "[1] 625\n",
      "[1] 650\n",
      "[1] 675\n",
      "[1] 700\n",
      "[1] 725\n",
      "[1] 750\n",
      "[1] 775\n",
      "[1] 800\n",
      "[1] 825\n",
      "[1] 850\n",
      "[1] 875\n",
      "[1] 900\n",
      "[1] 925\n",
      "[1] 950\n",
      "[1] 975\n",
      "[1] 1000\n",
      "[1] 1025\n"
     ]
    },
    {
     "name": "stderr",
     "output_type": "stream",
     "text": [
      "Warning message in arima(spd, order = c(1, 0, 0)):\n",
      "“possible convergence problem: optim gave code = 1”\n",
      "Warning message in arima(spd, order = c(1, 0, 0)):\n",
      "“possible convergence problem: optim gave code = 1”\n"
     ]
    },
    {
     "name": "stdout",
     "output_type": "stream",
     "text": [
      "[1] 1050\n",
      "[1] 1075\n",
      "[1] 1100\n",
      "[1] 1125\n",
      "[1] 1150\n",
      "[1] 1175\n",
      "[1] 1200\n",
      "[1] 1225\n",
      "[1] 1250\n",
      "[1] 1275\n",
      "[1] 1300\n",
      "[1] 1325\n"
     ]
    }
   ],
   "source": [
    "####################\n",
    "# Compute ACF\n",
    "####################\n",
    "\n",
    "# set up stuff\n",
    "ns=length(speed)\n",
    "ts=1:ns\n",
    "width=360; #% window with in index units (=5 sec) for 30 minutes. \n",
    "overlap=180; #% overlap of adjacent windows. \n",
    "nw=floor((length(ts)/(width-overlap) )-1); #% number of windows to use\n",
    "maxlag=150; #% maximum lag to use for auto-correlation function (ACF)\n",
    "\n",
    "ACFacc=matrix(NA,maxlag+1,nw); #% accumulator for ACF, \n",
    "ACVacc=matrix(NA,maxlag+1,nw); #% accumulator for ACV \n",
    "speedacc=matrix(NA,nw,1) # accumulator for mean of absolute value of speed[window]\n",
    "varacc=matrix(NA,nw,1) # accumulator for variance of speed[]\n",
    "intcpt=matrix(NA,nw,1) # accumulator for estimate of observation error for each window\n",
    "ar1acc=matrix(NA,nw,1) # accumulator for ar1 coeff from arima function\n",
    "## moving window shifts by 400 units each step through k \n",
    "## if k=1 then window=(401:1200)-400 = 1:800\n",
    "k=1 \n",
    "for (k in k:nw){\n",
    "\twindow=((k)*(width-overlap)+1):((k+1)*(width-overlap)+overlap); \n",
    "\twindow=window-overlap #if k=1, then 1:800\t\n",
    "    spd=speed[window]; #% extract the speed in the window\n",
    "    ACVacc[,k]=acf(spd, lag.max = maxlag,type = c(\"covariance\"),na.action=na.pass, plot=FALSE)$acf; \n",
    "    ACFacc[,k]=acf(spd, lag.max = maxlag,type = c(\"correlation\"),na.action=na.pass, plot=FALSE)$acf; \n",
    "# insert a few 'ifelse' statements to \n",
    "# 1) account for it entire record is 0's\n",
    "# 2) convergence issues then use index k-1 value\n",
    "    ar1acc[k]=ifelse(is.numeric(try(arima(spd, order=c(1,0,0))$coef[1],TRUE)),arima(spd, order=c(1,0,0))$coef[1],ifelse(sum(spd)==0,0,ar1acc[k-1]))\n",
    "\tvaracc[k]=var(spd)\n",
    "\tspeedacc[k]=mean(abs(spd))\n",
    "\ty=ACVacc[(1:5)+1,k]\n",
    "\ty.lm=lm(y~c(1:5)+c(1:5)^2)\n",
    "\tintcpt[k]=y.lm$coef[1]\n",
    "\tif (k%%25==0) print(k) # print every 25th 'iw'\n",
    "}"
   ]
  },
  {
   "cell_type": "code",
   "execution_count": 12,
   "metadata": {
    "vscode": {
     "languageId": "r"
    }
   },
   "outputs": [],
   "source": [
    "##############\n",
    "# Compute the mean observation error variance\n",
    "##############\n",
    "sig.o=varacc-intcpt\n",
    "sig.o.bar=mean(sig.o)\n",
    "sig.x=varacc-sig.o.bar"
   ]
  },
  {
   "cell_type": "code",
   "execution_count": 13,
   "metadata": {
    "vscode": {
     "languageId": "r"
    }
   },
   "outputs": [],
   "source": [
    "##############\n",
    "# make model for process variance vs. speed\n",
    "##############\n",
    "y=sig.x[sig.x>0]\n",
    "x=speedacc[sig.x>0] # mean(abs(speed)), but only use those average speeds where process error is > 0\n",
    "y.lm=lm(y~0+x+I(x^2))\n",
    "\tbeta1=y.lm$coefficients[1]\n",
    "\tbeta2=y.lm$coefficients[2]\n",
    "sig.x.hat=beta1*speedacc+beta2*(speedacc^2)"
   ]
  },
  {
   "cell_type": "code",
   "execution_count": 15,
   "metadata": {
    "vscode": {
     "languageId": "r"
    }
   },
   "outputs": [],
   "source": [
    "##############\n",
    "# make model for system noise variance vs. speed\n",
    "# derived from process variance above\n",
    "##############\n",
    "sig.e = sig.x.hat*(1-ar1acc^2)\n",
    "# set min threshold for sig.e to prevent sig.e from being ~ 0 \n",
    "sig.e[sig.e<0.035]=0.035"
   ]
  },
  {
   "cell_type": "code",
   "execution_count": 49,
   "metadata": {
    "vscode": {
     "languageId": "r"
    }
   },
   "outputs": [
    {
     "name": "stderr",
     "output_type": "stream",
     "text": [
      "ERROR while rich displaying an object: \u001b[1m\u001b[33mError\u001b[39m in `geom_line()`:\u001b[22m\n",
      "\u001b[1m\u001b[22m\u001b[33m!\u001b[39m Problem while setting up geom.\n",
      "\u001b[36mℹ\u001b[39m Error occurred in the 1st layer.\n",
      "\u001b[1mCaused by error in `compute_geom_1()`:\u001b[22m\n",
      "\u001b[1m\u001b[22m\u001b[33m!\u001b[39m `geom_line()` requires the following missing aesthetics: \u001b[32mx\u001b[39m\n",
      "\n",
      "Traceback:\n",
      "1. tryCatch(withCallingHandlers({\n",
      " .     if (!mime %in% names(repr::mime2repr)) \n",
      " .         stop(\"No repr_* for mimetype \", mime, \" in repr::mime2repr\")\n",
      " .     rpr <- repr::mime2repr[[mime]](obj)\n",
      " .     if (is.null(rpr)) \n",
      " .         return(NULL)\n",
      " .     prepare_content(is.raw(rpr), rpr)\n",
      " . }, error = error_handler), error = outer_handler)\n",
      "2. tryCatchList(expr, classes, parentenv, handlers)\n",
      "3. tryCatchOne(expr, names, parentenv, handlers[[1L]])\n",
      "4. doTryCatch(return(expr), name, parentenv, handler)\n",
      "5. withCallingHandlers({\n",
      " .     if (!mime %in% names(repr::mime2repr)) \n",
      " .         stop(\"No repr_* for mimetype \", mime, \" in repr::mime2repr\")\n",
      " .     rpr <- repr::mime2repr[[mime]](obj)\n",
      " .     if (is.null(rpr)) \n",
      " .         return(NULL)\n",
      " .     prepare_content(is.raw(rpr), rpr)\n",
      " . }, error = error_handler)\n",
      "6. repr::mime2repr[[mime]](obj)\n",
      "7. repr_text.default(obj)\n",
      "8. paste(capture.output(print(obj)), collapse = \"\\n\")\n",
      "9. capture.output(print(obj))\n",
      "10. withVisible(...elt(i))\n",
      "11. print(obj)\n",
      "12. print.ggplot(obj)\n",
      "13. ggplot_build(x)\n",
      "14. ggplot_build.ggplot(x)\n",
      "15. by_layer(function(l, d) l$compute_geom_1(d), layers, data, \"setting up geom\")\n",
      "16. try_fetch(for (i in seq_along(data)) {\n",
      "  .     out[[i]] <- f(l = layers[[i]], d = data[[i]])\n",
      "  . }, error = function(cnd) {\n",
      "  .     cli::cli_abort(c(\"Problem while {step}.\", i = \"Error occurred in the {ordinal(i)} layer.\"), \n",
      "  .         call = layers[[i]]$constructor, parent = cnd)\n",
      "  . })\n",
      "17. tryCatch(withCallingHandlers(expr, error = function(cnd) {\n",
      "  .     {\n",
      "  .         .__handler_frame__. <- TRUE\n",
      "  .         .__setup_frame__. <- frame\n",
      "  .     }\n",
      "  .     out <- handlers[[1L]](cnd)\n",
      "  .     if (!inherits(out, \"rlang_zap\")) \n",
      "  .         throw(out)\n",
      "  . }), stackOverflowError = handlers[[1L]])\n",
      "18. tryCatchList(expr, classes, parentenv, handlers)\n",
      "19. tryCatchOne(expr, names, parentenv, handlers[[1L]])\n",
      "20. doTryCatch(return(expr), name, parentenv, handler)\n",
      "21. withCallingHandlers(expr, error = function(cnd) {\n",
      "  .     {\n",
      "  .         .__handler_frame__. <- TRUE\n",
      "  .         .__setup_frame__. <- frame\n",
      "  .     }\n",
      "  .     out <- handlers[[1L]](cnd)\n",
      "  .     if (!inherits(out, \"rlang_zap\")) \n",
      "  .         throw(out)\n",
      "  . })\n",
      "22. f(l = layers[[i]], d = data[[i]])\n",
      "23. l$compute_geom_1(d)\n",
      "24. compute_geom_1(..., self = self)\n",
      "25. check_required_aesthetics(self$geom$required_aes, c(names(data), \n",
      "  .     names(self$aes_params)), snake_class(self$geom))\n",
      "26. cli::cli_abort(message, call = call)\n",
      "27. rlang::abort(message, ..., call = call, use_cli_format = TRUE, \n",
      "  .     .frame = .frame)\n",
      "28. signal_abort(cnd, .file)\n",
      "29. signalCondition(cnd)\n",
      "30. (function (cnd) \n",
      "  . {\n",
      "  .     {\n",
      "  .         .__handler_frame__. <- TRUE\n",
      "  .         .__setup_frame__. <- frame\n",
      "  .     }\n",
      "  .     out <- handlers[[1L]](cnd)\n",
      "  .     if (!inherits(out, \"rlang_zap\")) \n",
      "  .         throw(out)\n",
      "  . })(structure(list(message = \"`geom_line()` requires the following missing aesthetics: \\033[32mx\\033[39m\", \n",
      "  .     trace = structure(list(call = list(IRkernel::main(), kernel$run(), \n",
      "  .         handle_shell(), executor$execute(msg), tryCatch(evaluate(request$content$code, \n",
      "  .             envir = .GlobalEnv, output_handler = oh, stop_on_error = 1L), \n",
      "  .             interrupt = function(cond) {\n",
      "  .                 log_debug(\"Interrupt during execution\")\n",
      "  .                 interrupted <<- TRUE\n",
      "  .             }, error = .self$handle_error), tryCatchList(expr, \n",
      "  .             classes, parentenv, handlers), tryCatchOne(tryCatchList(expr, \n",
      "  .             names[-nh], parentenv, handlers[-nh]), names[nh], \n",
      "  .             parentenv, handlers[[nh]]), doTryCatch(return(expr), \n",
      "  .             name, parentenv, handler), tryCatchList(expr, names[-nh], \n",
      "  .             parentenv, handlers[-nh]), tryCatchOne(expr, names, \n",
      "  .             parentenv, handlers[[1L]]), doTryCatch(return(expr), \n",
      "  .             name, parentenv, handler), evaluate(request$content$code, \n",
      "  .             envir = .GlobalEnv, output_handler = oh, stop_on_error = 1L), \n",
      "  .         evaluate_call(expr, parsed$src[[i]], envir = envir, enclos = enclos, \n",
      "  .             debug = debug, last = i == length(out), use_try = stop_on_error != \n",
      "  .                 2L, keep_warning = keep_warning, keep_message = keep_message, \n",
      "  .             output_handler = output_handler, include_timing = include_timing), \n",
      "  .         handle(pv <- withCallingHandlers(withVisible(value_fun(ev$value, \n",
      "  .             ev$visible)), warning = wHandler, error = eHandler, \n",
      "  .             message = mHandler)), try(f, silent = TRUE), tryCatch(expr, \n",
      "  .             error = function(e) {\n",
      "  .                 call <- conditionCall(e)\n",
      "  .                 if (!is.null(call)) {\n",
      "  .                   if (identical(call[[1L]], quote(doTryCatch))) \n",
      "  .                     call <- sys.call(-4L)\n",
      "  .                   dcall <- deparse(call, nlines = 1L)\n",
      "  .                   prefix <- paste(\"Error in\", dcall, \": \")\n",
      "  .                   LONG <- 75L\n",
      "  .                   sm <- strsplit(conditionMessage(e), \"\\n\")[[1L]]\n",
      "  .                   w <- 14L + nchar(dcall, type = \"w\") + nchar(sm[1L], \n",
      "  .                     type = \"w\")\n",
      "  .                   if (is.na(w)) \n",
      "  .                     w <- 14L + nchar(dcall, type = \"b\") + nchar(sm[1L], \n",
      "  .                       type = \"b\")\n",
      "  .                   if (w > LONG) \n",
      "  .                     prefix <- paste0(prefix, \"\\n  \")\n",
      "  .                 }\n",
      "  .                 else prefix <- \"Error : \"\n",
      "  .                 msg <- paste0(prefix, conditionMessage(e), \"\\n\")\n",
      "  .                 .Internal(seterrmessage(msg[1L]))\n",
      "  .                 if (!silent && isTRUE(getOption(\"show.error.messages\"))) {\n",
      "  .                   cat(msg, file = outFile)\n",
      "  .                   .Internal(printDeferredWarnings())\n",
      "  .                 }\n",
      "  .                 invisible(structure(msg, class = \"try-error\", \n",
      "  .                   condition = e))\n",
      "  .             }), tryCatchList(expr, classes, parentenv, handlers), \n",
      "  .         tryCatchOne(expr, names, parentenv, handlers[[1L]]), \n",
      "  .         doTryCatch(return(expr), name, parentenv, handler), withCallingHandlers(withVisible(value_fun(ev$value, \n",
      "  .             ev$visible)), warning = wHandler, error = eHandler, \n",
      "  .             message = mHandler), withVisible(value_fun(ev$value, \n",
      "  .             ev$visible)), value_fun(ev$value, ev$visible), prepare_mimebundle_kernel(obj, \n",
      "  .             .self$handle_display_error), prepare_mimebundle(obj, \n",
      "  .             \"text/plain\", error_handler = handle_display_error), \n",
      "  .         filter_map(mimetypes, function(mime) {\n",
      "  .             tryCatch(withCallingHandlers({\n",
      "  .                 if (!mime %in% names(repr::mime2repr)) \n",
      "  .                   stop(\"No repr_* for mimetype \", mime, \" in repr::mime2repr\")\n",
      "  .                 rpr <- repr::mime2repr[[mime]](obj)\n",
      "  .                 if (is.null(rpr)) \n",
      "  .                   return(NULL)\n",
      "  .                 prepare_content(is.raw(rpr), rpr)\n",
      "  .             }, error = error_handler), error = outer_handler)\n",
      "  .         }), Filter(Negate(is.null), sapply(x, f, simplify = simplify)), \n",
      "  .         unlist(lapply(x, f)), lapply(x, f), sapply(x, f, simplify = simplify), \n",
      "  .         lapply(X = X, FUN = FUN, ...), FUN(X[[i]], ...), tryCatch(withCallingHandlers({\n",
      "  .             if (!mime %in% names(repr::mime2repr)) \n",
      "  .                 stop(\"No repr_* for mimetype \", mime, \" in repr::mime2repr\")\n",
      "  .             rpr <- repr::mime2repr[[mime]](obj)\n",
      "  .             if (is.null(rpr)) \n",
      "  .                 return(NULL)\n",
      "  .             prepare_content(is.raw(rpr), rpr)\n",
      "  .         }, error = error_handler), error = outer_handler), tryCatchList(expr, \n",
      "  .             classes, parentenv, handlers), tryCatchOne(expr, \n",
      "  .             names, parentenv, handlers[[1L]]), doTryCatch(return(expr), \n",
      "  .             name, parentenv, handler), withCallingHandlers({\n",
      "  .             if (!mime %in% names(repr::mime2repr)) \n",
      "  .                 stop(\"No repr_* for mimetype \", mime, \" in repr::mime2repr\")\n",
      "  .             rpr <- repr::mime2repr[[mime]](obj)\n",
      "  .             if (is.null(rpr)) \n",
      "  .                 return(NULL)\n",
      "  .             prepare_content(is.raw(rpr), rpr)\n",
      "  .         }, error = error_handler), repr::mime2repr[[mime]](obj), \n",
      "  .         repr_text.default(obj), paste(capture.output(print(obj)), \n",
      "  .             collapse = \"\\n\"), capture.output(print(obj)), withVisible(...elt(i)), \n",
      "  .         print(obj), print.ggplot(obj), ggplot_build(x), ggplot_build.ggplot(x), \n",
      "  .         by_layer(function(l, d) l$compute_geom_1(d), layers, \n",
      "  .             data, \"setting up geom\"), try_fetch(for (i in seq_along(data)) {\n",
      "  .             out[[i]] <- f(l = layers[[i]], d = data[[i]])\n",
      "  .         }, error = function(cnd) {\n",
      "  .             cli::cli_abort(c(\"Problem while {step}.\", i = \"Error occurred in the {ordinal(i)} layer.\"), \n",
      "  .                 call = layers[[i]]$constructor, parent = cnd)\n",
      "  .         }), tryCatch(withCallingHandlers(expr, error = function(cnd) {\n",
      "  .             {\n",
      "  .                 .__handler_frame__. <- TRUE\n",
      "  .                 .__setup_frame__. <- frame\n",
      "  .             }\n",
      "  .             out <- handlers[[1L]](cnd)\n",
      "  .             if (!inherits(out, \"rlang_zap\")) \n",
      "  .                 throw(out)\n",
      "  .         }), stackOverflowError = handlers[[1L]]), tryCatchList(expr, \n",
      "  .             classes, parentenv, handlers), tryCatchOne(expr, \n",
      "  .             names, parentenv, handlers[[1L]]), doTryCatch(return(expr), \n",
      "  .             name, parentenv, handler), withCallingHandlers(expr, \n",
      "  .             error = function(cnd) {\n",
      "  .                 {\n",
      "  .                   .__handler_frame__. <- TRUE\n",
      "  .                   .__setup_frame__. <- frame\n",
      "  .                 }\n",
      "  .                 out <- handlers[[1L]](cnd)\n",
      "  .                 if (!inherits(out, \"rlang_zap\")) \n",
      "  .                   throw(out)\n",
      "  .             }), f(l = layers[[i]], d = data[[i]]), l$compute_geom_1(d), \n",
      "  .         compute_geom_1(..., self = self), check_required_aesthetics(self$geom$required_aes, \n",
      "  .             c(names(data), names(self$aes_params)), snake_class(self$geom)), \n",
      "  .         cli::cli_abort(message, call = call), rlang::abort(message, \n",
      "  .             ..., call = call, use_cli_format = TRUE, .frame = .frame)), \n",
      "  .         parent = c(0L, 1L, 2L, 3L, 4L, 5L, 6L, 7L, 6L, 9L, 10L, \n",
      "  .         4L, 12L, 13L, 14L, 15L, 16L, 17L, 18L, 13L, 13L, 13L, \n",
      "  .         22L, 23L, 24L, 25L, 26L, 26L, 25L, 29L, 30L, 31L, 32L, \n",
      "  .         33L, 34L, 31L, 31L, 31L, 38L, 38L, 40L, 38L, 38L, 43L, \n",
      "  .         43L, 45L, 46L, 47L, 48L, 49L, 50L, 47L, 46L, 53L, 54L, \n",
      "  .         55L, 56L, 57L), visible = c(TRUE, TRUE, TRUE, TRUE, TRUE, \n",
      "  .         TRUE, TRUE, TRUE, TRUE, TRUE, TRUE, TRUE, TRUE, TRUE, \n",
      "  .         TRUE, TRUE, TRUE, TRUE, TRUE, TRUE, TRUE, TRUE, TRUE, \n",
      "  .         TRUE, TRUE, TRUE, TRUE, TRUE, TRUE, TRUE, TRUE, TRUE, \n",
      "  .         TRUE, TRUE, TRUE, TRUE, TRUE, TRUE, TRUE, TRUE, TRUE, \n",
      "  .         TRUE, TRUE, TRUE, TRUE, TRUE, TRUE, TRUE, TRUE, TRUE, \n",
      "  .         TRUE, TRUE, TRUE, TRUE, TRUE, FALSE, FALSE, FALSE), namespace = c(\"IRkernel\", \n",
      "  .         NA, \"IRkernel\", NA, \"base\", \"base\", \"base\", \"base\", \"base\", \n",
      "  .         \"base\", \"base\", \"evaluate\", \"evaluate\", \"evaluate\", \"base\", \n",
      "  .         \"base\", \"base\", \"base\", \"base\", \"base\", \"base\", \"IRkernel\", \n",
      "  .         \"IRkernel\", \"IRdisplay\", \"IRdisplay\", \"base\", \"base\", \n",
      "  .         \"base\", \"base\", \"base\", \"IRdisplay\", \"base\", \"base\", \n",
      "  .         \"base\", \"base\", \"base\", NA, \"repr\", \"base\", \"utils\", \n",
      "  .         \"base\", \"base\", \"ggplot2\", \"ggplot2\", \"ggplot2\", \"ggplot2\", \n",
      "  .         \"rlang\", \"base\", \"base\", \"base\", \"base\", \"base\", \"ggplot2\", \n",
      "  .         NA, \"ggplot2\", \"ggplot2\", \"cli\", \"rlang\"), scope = c(\"::\", \n",
      "  .         NA, \"local\", NA, \"::\", \"local\", \"local\", \"local\", \"local\", \n",
      "  .         \"local\", \"local\", \"::\", \":::\", \"local\", \"::\", \"::\", \"local\", \n",
      "  .         \"local\", \"local\", \"::\", \"::\", \"local\", \":::\", \"::\", \":::\", \n",
      "  .         \"::\", \"::\", \"::\", \"::\", \"::\", \"local\", \"::\", \"local\", \n",
      "  .         \"local\", \"local\", \"::\", NA, \":::\", \"::\", \"::\", \"::\", \n",
      "  .         \"::\", \":::\", \"::\", \":::\", \":::\", \"::\", \"::\", \"local\", \n",
      "  .         \"local\", \"local\", \"::\", \"local\", NA, \"local\", \":::\", \n",
      "  .         \"::\", \"::\"), error_frame = c(FALSE, FALSE, FALSE, FALSE, \n",
      "  .         FALSE, FALSE, FALSE, FALSE, FALSE, FALSE, FALSE, FALSE, \n",
      "  .         FALSE, FALSE, FALSE, FALSE, FALSE, FALSE, FALSE, FALSE, \n",
      "  .         FALSE, FALSE, FALSE, FALSE, FALSE, FALSE, FALSE, FALSE, \n",
      "  .         FALSE, FALSE, FALSE, FALSE, FALSE, FALSE, FALSE, FALSE, \n",
      "  .         FALSE, FALSE, FALSE, FALSE, FALSE, FALSE, FALSE, FALSE, \n",
      "  .         FALSE, FALSE, FALSE, FALSE, FALSE, FALSE, FALSE, FALSE, \n",
      "  .         FALSE, FALSE, TRUE, FALSE, FALSE, FALSE)), row.names = c(NA, \n",
      "  .     -58L), version = 2L, class = c(\"rlang_trace\", \"rlib_trace\", \n",
      "  .     \"tbl\", \"data.frame\")), parent = NULL, call = compute_geom_1(..., \n",
      "  .         self = self), use_cli_format = TRUE), class = c(\"rlang_error\", \n",
      "  . \"error\", \"condition\")))\n",
      "31. handlers[[1L]](cnd)\n",
      "32. cli::cli_abort(c(\"Problem while {step}.\", i = \"Error occurred in the {ordinal(i)} layer.\"), \n",
      "  .     call = layers[[i]]$constructor, parent = cnd)\n",
      "33. rlang::abort(message, ..., call = call, use_cli_format = TRUE, \n",
      "  .     .frame = .frame)\n",
      "34. signal_abort(cnd, .file)\n"
     ]
    }
   ],
   "source": [
    "speed_df <- data.frame(speed)\n",
    "\n",
    "ggplot(data = speed_df, aes(y = speed)) +\n",
    "  geom_line(color = \"gray75\") +\n",
    "  ylab(\"speed\")"
   ]
  },
  {
   "cell_type": "code",
   "execution_count": null,
   "metadata": {
    "vscode": {
     "languageId": "r"
    }
   },
   "outputs": [],
   "source": []
  },
  {
   "cell_type": "code",
   "execution_count": 17,
   "metadata": {
    "vscode": {
     "languageId": "r"
    }
   },
   "outputs": [
    {
     "data": {
      "text/html": [
       "<strong>null device:</strong> 1"
      ],
      "text/latex": [
       "\\textbf{null device:} 1"
      ],
      "text/markdown": [
       "**null device:** 1"
      ],
      "text/plain": [
       "null device \n",
       "          1 "
      ]
     },
     "metadata": {},
     "output_type": "display_data"
    },
    {
     "name": "stderr",
     "output_type": "stream",
     "text": [
      "Warning message in quartz(height = 5, width = 10):\n",
      "“Quartz device is not available on this platform”\n"
     ]
    }
   ],
   "source": [
    "##############\n",
    "# Plot to see that sys noise variance scales with speed. \n",
    "##############\n",
    "dev.off()\n",
    "quartz(height=5,width=10);par(oma=c(3,5,3,5),mar=rep(0,4))\n",
    "plot(speed,axes=F,col=\"gray75\",type=\"l\");axis(2,las=2)\n",
    "\tmtext(side=2,\"speed\",line=3)\n",
    "par(new=T)\n",
    "plot(sig.e,type=\"o\",axes=F,cex=.6,pch=16,ylab=\"\")\n",
    "\taxis(4,las=2)\n",
    "\tmtext(side=4,\"sig.e\",line=3)"
   ]
  },
  {
   "cell_type": "code",
   "execution_count": 18,
   "metadata": {
    "vscode": {
     "languageId": "r"
    }
   },
   "outputs": [],
   "source": [
    "############################################################\n",
    "# normal mixture code\n",
    "normix=function(n,p,sig1,sig2)\n",
    "{\n",
    "# distribution 1\n",
    "# distribution 2\n",
    "idx=rbinom(n,1,p)\n",
    "e = c(rnorm(n,mean=0,sd=sig1)[idx==0], rnorm(n,mean=0,sd=sig2)[idx==1])\n",
    "return(e)\n",
    "}"
   ]
  },
  {
   "cell_type": "code",
   "execution_count": 19,
   "metadata": {
    "vscode": {
     "languageId": "r"
    }
   },
   "outputs": [],
   "source": [
    "############################################################\n",
    "# mixture random walk codes\n",
    "rw=function(xold,sigp)\n",
    "{\n",
    "#% single stage transition of the (deterministic) model\n",
    "#% inputs: \n",
    "#% xold - state at time t-1\n",
    "#% theta - parameter vector\n",
    "#% outputs:\n",
    "#% xnew - state at time t+1\n",
    "  \n",
    "a1=xold[3]; xnewp1=xold[3]+sigp*rnorm(1) # update a1\n",
    "a2=xold[4]; xnewp2=xold[4]+sigp*rnorm(1) # update a2\n",
    "# sig.n=exp(xold[5]); xnewp3=xold[5]+sigp*xold[5]*rnorm(1) # update system noise as a function of size at ast time interval\n",
    "\t\t\t# could also use sigp to scale the forcing.\n",
    "\n",
    "#% model: bivariate AR(1)\n",
    "# update state using \"old\" values\n",
    "\tD=matrix(c(a1, a2, 1, 0),ncol=2,byrow=T);\n",
    "\tn=matrix(c(normix(n=1,p=0.025,sig1=sig.n,sig2=10*sig.n),0));\n",
    "xnews=D%*%matrix(xold[1:2],2,1)+n;\n",
    "\n",
    "xnew=matrix(c(xnews, xnewp1, xnewp2),4,1)\n",
    "return(xnew)\n",
    "}"
   ]
  },
  {
   "cell_type": "code",
   "execution_count": 20,
   "metadata": {
    "vscode": {
     "languageId": "r"
    }
   },
   "outputs": [],
   "source": [
    "############################################################\n",
    "# particle filter codes \n",
    "pfilter=function(param,psig,y)\n",
    "{\n",
    "# accumulators for mean and variance of filtered state\n",
    "xbar=matrix(NA,nt,nstate); # filter mean\n",
    "\n",
    "# setup initial particle positions\n",
    "xas=sig.i*matrix(rnorm(np*ns),np,ns); # original state np x 2\n",
    "xap1=matrix(param[1],np,1) # parameter 1\n",
    "xap2=matrix(param[2],np,1) # parameter 2\n",
    "\n",
    "xa=cbind(xas,xap1,xap2)\n",
    "\n",
    "#% compute mean and variance for initial conditions\n",
    "xbar[1,]=colMeans(xa); \n",
    "\n",
    "\n",
    "# ==== FILTER/ SMOOTHER IMPLEMENTATION\n",
    "for (k in 1:nt)  # start time loop\n",
    "{\n",
    "\t# === prediction step - yields forecast ensemble\n",
    "xf=t(apply(xa,1,rw,psig)) # predict state forward one time step\n",
    "\n",
    "\t#% === measurement step - yields nowcast ensemble\n",
    "\t# assign weights to each particle (prop to MVN likelihood)\n",
    "w=apply(matrix(xf[,1],np,1),1,dmvnorm,x=y[k],sigma=R)\n",
    "\n",
    "\t# carry out weighted resample on forecast ensemble\n",
    "m=sample(1:np,size=np,prob=w,replace=T);\n",
    "\n",
    "\t# resample forecast to yield analysis\n",
    "xa=xf[m,] \t\t\t# here: \"a\" means analysis, \"f\" means forecast)\n",
    "xbar[k,]=apply(xa,2,mean); \t# compute mean\n",
    "\n",
    "} # end k, for\n",
    "\n",
    "return(xbar)\n",
    "}"
   ]
  },
  {
   "cell_type": "code",
   "execution_count": 21,
   "metadata": {
    "vscode": {
     "languageId": "r"
    }
   },
   "outputs": [],
   "source": [
    "############################################\n",
    "# \n",
    "# Running my adaptation of Ionides MIF\n",
    "# You'll have to bring in 3 things for this to work (maybe more?)\n",
    "# (1) your vertical speed data, \n",
    "# (2) sig.o.bar (obs error), \n",
    "# (3) sig.e (system error)\n",
    "#\n",
    "############################################\n",
    "\n",
    "numw=floor((length(speed)/(width-overlap) )-1); \n",
    "paramMIF=matrix(NA,numw,2) \n",
    "paramMIF[1,]=c(0,0)\n",
    "np=2000; # number of particles, or sample size (put as small number (np=10) until you're sure code is working)\n",
    "nt=width # no. of timesteps \n",
    "\n",
    "ns=2 # number of original state variables\n",
    "nparam=2 # number of dynamic parameters to be made part of state\n",
    "nstate=ns+nparam # total size of augmented state\n",
    "\n",
    "niter=12\n",
    "iter=1\n",
    "\n",
    "sig.o=sqrt(sig.o.bar) \t # observation error std dev\n",
    "#Id=matrix(0,ncol(y),ncol(y)); diag(Id)=1; R=(sig.o^2)*Id; \n",
    "R=matrix(sig.o^2)\n",
    "\n",
    "sig.n=sqrt(sig.e) \t # system noise variance\n",
    "\n",
    "alpha=0.4 # rampdown effect\n",
    "sigpi=0.1 # initial value for forcing for augmented state parameters\n",
    "sigp=sapply(1:(niter-1),function(i) (sigpi)*alpha^i)\n",
    "\n",
    "sig.i=1 \t\t\t\t # variance for the initial conditions\n",
    "theta=c(sig.i)\t\t # vector of static parameters (passed to model subroutine)\n"
   ]
  },
  {
   "cell_type": "code",
   "execution_count": 22,
   "metadata": {
    "vscode": {
     "languageId": "r"
    }
   },
   "outputs": [],
   "source": [
    "############################################\n",
    "# LOOPING THROUGH \"iw\" windows\n",
    "############################################\n",
    "for (iw in 1:numw){\n",
    "# for (iw in 2:25){\n",
    "\n",
    "window=((iw-1)*(width-overlap)+1):(iw*(width-overlap)+overlap); \n",
    "\ty=matrix(speed[window])\n",
    "\ty=sweep(y,1,mean(y));\n",
    "\n",
    "# ==== RE-SETUP INSIDE LOOP FOR EACH STEP OF \"iw\"\n",
    "\n",
    "paramvec=matrix(NA,niter,2) # niter x 2 matrix for a1, a2 for niter iter's\n",
    "paramvec[1,]=c(1,0)\n",
    "\n",
    "# MIF unweighted : niter ITERATIONS TO GET TO MLE of STATIC a1, a2 parameters\n",
    "for (iter in 1:(niter-1))\n",
    "{\n",
    "# updates system error, and sigp\n",
    "X=pfilter(param=paramvec[iter,],psig=sigp[iter],y)\n",
    "paramvec[iter+1,]=colMeans(X[,3:4])\t\n",
    "# print(iter)\n",
    "}\n",
    "\n",
    "paramMIF[iw,]=paramvec[niter,]\n",
    "print(iw)\n",
    "} # end iw"
   ]
  }
 ],
 "metadata": {
  "kernelspec": {
   "display_name": "R",
   "language": "R",
   "name": "ir"
  },
  "language_info": {
   "codemirror_mode": "r",
   "file_extension": ".r",
   "mimetype": "text/x-r-source",
   "name": "R",
   "pygments_lexer": "r",
   "version": "4.1.2"
  },
  "orig_nbformat": 4,
  "vscode": {
   "interpreter": {
    "hash": "5418fe37f9f3eb94898a27ba4ce2cf842e70225e29d3fe7c8ea46cd59e660c81"
   }
  }
 },
 "nbformat": 4,
 "nbformat_minor": 2
}
