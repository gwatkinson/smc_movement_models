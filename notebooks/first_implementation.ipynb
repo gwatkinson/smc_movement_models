{
 "cells": [
  {
   "cell_type": "markdown",
   "metadata": {},
   "source": [
    "# Première implementation des modèles\n",
    "\n",
    "Ce notebook est fait pour faire des tests sur l'implémentation des modèles, de la génération des données, des graphiques, etc."
   ]
  },
  {
   "cell_type": "code",
   "execution_count": null,
   "metadata": {},
   "outputs": [],
   "source": [
    "%load_ext autoreload\n",
    "%autoreload 2"
   ]
  },
  {
   "cell_type": "code",
   "execution_count": null,
   "metadata": {},
   "outputs": [],
   "source": [
    "import matplotlib.pyplot as plt\n",
    "import numpy as np\n",
    "import pandas as pd\n",
    "import particles\n",
    "import seaborn as sns\n",
    "from particles.state_space_models import Bootstrap\n",
    "\n",
    "from smc_movement_models.models import MarineSSM\n",
    "from smc_movement_models.plots import plot_graph_values, plot_real_data\n",
    "\n",
    "np.random.seed(42)"
   ]
  },
  {
   "cell_type": "code",
   "execution_count": null,
   "metadata": {},
   "outputs": [],
   "source": [
    "gv_fig = plot_graph_values(figsize=None)"
   ]
  },
  {
   "cell_type": "code",
   "execution_count": null,
   "metadata": {},
   "outputs": [],
   "source": [
    "day_fig = plot_real_data(\"../data/19_01_2008.csv\", figsize=(10, 5))"
   ]
  },
  {
   "cell_type": "code",
   "execution_count": null,
   "metadata": {},
   "outputs": [],
   "source": [
    "day = pd.read_csv(\"../data/19_01_2008.csv\", parse_dates=[0])"
   ]
  },
  {
   "cell_type": "code",
   "execution_count": null,
   "metadata": {},
   "outputs": [],
   "source": [
    "window = day[:312][\"Velocity\"]"
   ]
  },
  {
   "cell_type": "code",
   "execution_count": null,
   "metadata": {},
   "outputs": [],
   "source": [
    "def run_smc(window, N=200, **kwargs):\n",
    "    my_ssm_model = MarineSSM(z0=window[0], z1=window[1], **kwargs)\n",
    "    my_fk_model = Bootstrap(ssm=my_ssm_model, data=window)\n",
    "    my_alg = particles.SMC(fk=my_fk_model, N=N, store_history=True)\n",
    "    my_alg.run()\n",
    "    return my_alg\n",
    "\n",
    "\n",
    "def estimate_a1_a2_on_window(window, N=200, M=10, epsilon=0.1, alpha=0.5, **kwargs):\n",
    "    final_a1s = []\n",
    "    final_a2s = []\n",
    "    for m in range(M):\n",
    "        a1 = final_a1s[-1].mean() if m > 0 else 0\n",
    "        a2 = final_a2s[-1].mean() if m > 0 else 0\n",
    "        alg = run_smc(\n",
    "            window=window,\n",
    "            sigma_v=epsilon,\n",
    "            a1=a1,\n",
    "            a2=a2,\n",
    "            sigma_o=0.1,\n",
    "            sigma_e=0.1,\n",
    "            c1=0.9,\n",
    "            c2=0.1,\n",
    "            delta=10,\n",
    "        )\n",
    "        a1s_tmp = np.array(alg.hist.X)[:, :, 2]\n",
    "        a2s_tmp = np.array(alg.hist.X)[:, :, 3]\n",
    "        wgts = np.array([w.W for w in alg.hist.wgts])\n",
    "        final_a1s.append(np.average(a1s_tmp, weights=wgts, axis=1))\n",
    "        final_a2s.append(np.average(a2s_tmp, weights=wgts, axis=1))\n",
    "        epsilon *= 0.5\n",
    "\n",
    "    final_a1s = np.array(final_a1s)\n",
    "    final_a2s = np.array(final_a2s)\n",
    "    a1s = final_a1s.mean(axis=1)\n",
    "    a2s = final_a2s.mean(axis=1)\n",
    "    return a1, a2"
   ]
  },
  {
   "cell_type": "code",
   "execution_count": null,
   "metadata": {},
   "outputs": [],
   "source": [
    "epsilon = 0.1\n",
    "final_a1s = []\n",
    "final_a2s = []\n",
    "for m in range(10):\n",
    "    a1 = final_a1s[-1].mean() if m > 0 else 0\n",
    "    a2 = final_a2s[-1].mean() if m > 0 else 0\n",
    "    alg = run_smc(window=window, sigma_v=epsilon, a1=a1, a2=a2)\n",
    "    a1s_tmp = np.array(alg.hist.X)[:, :, 2]\n",
    "    a2s_tmp = np.array(alg.hist.X)[:, :, 3]\n",
    "    wgts = np.array([w.W for w in alg.hist.wgts])\n",
    "    final_a1s.append(np.average(a1s_tmp, weights=wgts, axis=1))\n",
    "    final_a2s.append(np.average(a2s_tmp, weights=wgts, axis=1))\n",
    "    epsilon *= 0.5\n",
    "\n",
    "final_a1s = np.array(final_a1s)\n",
    "final_a2s = np.array(final_a2s)\n",
    "a1s = final_a1s.mean(axis=1)\n",
    "a2s = final_a2s.mean(axis=1)"
   ]
  },
  {
   "cell_type": "code",
   "execution_count": null,
   "metadata": {},
   "outputs": [],
   "source": [
    "print(a1s, a2s)"
   ]
  },
  {
   "cell_type": "code",
   "execution_count": null,
   "metadata": {},
   "outputs": [],
   "source": [
    "for i in range(10):\n",
    "    sns.kdeplot(np.array(final_a1s)[i, :], fill=True, label=f\"iter {i+1}\")\n",
    "\n",
    "plt.legend()"
   ]
  },
  {
   "cell_type": "code",
   "execution_count": null,
   "metadata": {},
   "outputs": [],
   "source": [
    "my_alg = run_smc(window, N=200)"
   ]
  },
  {
   "cell_type": "code",
   "execution_count": null,
   "metadata": {},
   "outputs": [],
   "source": [
    "a1s_tmp = np.array(alg.hist.X)[:, :, 2]\n",
    "a2s_tmp = np.array(alg.hist.X)[:, :, 3]\n",
    "wgts = np.array([w.W for w in alg.hist.wgts])\n",
    "a1s = np.average(a1s_tmp, weights=wgts, axis=1)\n",
    "a2s = np.average(a2s_tmp, weights=wgts, axis=1)"
   ]
  },
  {
   "cell_type": "code",
   "execution_count": null,
   "metadata": {},
   "outputs": [],
   "source": [
    "sns.kdeplot(a1s, fill=True, label=\"a1\")\n",
    "sns.kdeplot(a2s, fill=True, label=\"a2\")\n",
    "plt.legend()"
   ]
  },
  {
   "cell_type": "code",
   "execution_count": null,
   "metadata": {},
   "outputs": [],
   "source": [
    "x_range = np.arange(len(window))\n",
    "fig, axs = plt.subplots(2, 1, figsize=(10, 5))\n",
    "axs[0].plot(x_range, a1s)\n",
    "axs[1].plot(x_range, a2s)"
   ]
  },
  {
   "cell_type": "code",
   "execution_count": null,
   "metadata": {},
   "outputs": [],
   "source": []
  }
 ],
 "metadata": {
  "kernelspec": {
   "display_name": ".venv",
   "language": "python",
   "name": "python3"
  },
  "language_info": {
   "codemirror_mode": {
    "name": "ipython",
    "version": 3
   },
   "file_extension": ".py",
   "mimetype": "text/x-python",
   "name": "python",
   "nbconvert_exporter": "python",
   "pygments_lexer": "ipython3",
   "version": "3.9.12"
  },
  "vscode": {
   "interpreter": {
    "hash": "6005a422dc5ce005ab867ab136110293315ff20b729971632192aaba74624383"
   }
  }
 },
 "nbformat": 4,
 "nbformat_minor": 2
}
