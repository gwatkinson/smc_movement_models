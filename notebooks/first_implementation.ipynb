{
 "cells": [
  {
   "cell_type": "markdown",
   "metadata": {},
   "source": [
    "# Première implementation des modèles\n",
    "\n",
    "Ce notebook est fait pour faire des tests sur l'implémentation des modèles, de la génération des données, des graphiques, etc."
   ]
  },
  {
   "cell_type": "code",
   "execution_count": null,
   "metadata": {},
   "outputs": [],
   "source": [
    "%load_ext autoreload\n",
    "%autoreload 2"
   ]
  },
  {
   "cell_type": "code",
   "execution_count": null,
   "metadata": {},
   "outputs": [],
   "source": [
    "import matplotlib.pyplot as plt\n",
    "import numpy as np\n",
    "import numpy.random as nprd\n",
    "import pandas as pd\n",
    "\n",
    "from smc_movement_models.plots import plot_graph_values, plot_real_data"
   ]
  },
  {
   "cell_type": "code",
   "execution_count": null,
   "metadata": {},
   "outputs": [],
   "source": [
    "gv_fig = plot_graph_values(figsize=None)"
   ]
  },
  {
   "cell_type": "code",
   "execution_count": null,
   "metadata": {},
   "outputs": [],
   "source": [
    "day_fig = plot_real_data(\"data/19_01_2008.csv\", figsize=(10, 5))"
   ]
  },
  {
   "cell_type": "code",
   "execution_count": null,
   "metadata": {},
   "outputs": [],
   "source": [
    "day = pd.read_csv(\"data/19_01_2008.csv\", parse_dates=[0])"
   ]
  },
  {
   "cell_type": "code",
   "execution_count": null,
   "metadata": {},
   "outputs": [],
   "source": [
    "import particles\n",
    "import particles.distributions as dists\n",
    "import particles.state_space_models as ssm\n",
    "\n",
    "\n",
    "class MarineSSM(ssm.StateSpaceModel):\n",
    "    def PX0(self):  # Distribution of X_0\n",
    "        return dists.Normal()  # X_0 ~ N(0, 1)\n",
    "\n",
    "    def PX(self, t, xp):  # Distribution of X_t given X_{t-1}\n",
    "        return dists.Normal(loc=xp)  # X_t ~ N( X_{t-1}, 1)\n",
    "\n",
    "    def PY(self, t, xp, x):  # Distribution of Y_t given X_t (and X_{t-1})\n",
    "        return dists.Normal(loc=x, scale=self.sigma)  # Y_t ~ N(X_t, sigma^2)"
   ]
  },
  {
   "cell_type": "code",
   "execution_count": null,
   "metadata": {},
   "outputs": [],
   "source": [
    "my_model = ToySSM(sigma=0.2)\n",
    "x, y = my_model.simulate(200)  # sample size is 200"
   ]
  },
  {
   "cell_type": "code",
   "execution_count": null,
   "metadata": {},
   "outputs": [],
   "source": [
    "alg = particles.SMC(fk=ssm.Bootstrap(ssm=my_model, data=y), N=200)\n",
    "alg.run()"
   ]
  }
 ],
 "metadata": {
  "kernelspec": {
   "display_name": "Python 3.10.8 ('smc-movement-models-S0yC87zM-py3.10')",
   "language": "python",
   "name": "python3"
  },
  "language_info": {
   "codemirror_mode": {
    "name": "ipython",
    "version": 3
   },
   "file_extension": ".py",
   "mimetype": "text/x-python",
   "name": "python",
   "nbconvert_exporter": "python",
   "pygments_lexer": "ipython3",
   "version": "3.10.8"
  },
  "vscode": {
   "interpreter": {
    "hash": "5418fe37f9f3eb94898a27ba4ce2cf842e70225e29d3fe7c8ea46cd59e660c81"
   }
  }
 },
 "nbformat": 4,
 "nbformat_minor": 2
}
