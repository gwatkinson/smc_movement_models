{
 "cells": [
  {
   "cell_type": "markdown",
   "metadata": {},
   "source": [
    "# Première implementation des modèles\n",
    "\n",
    "Ce notebook est fait pour faire des tests sur l'implémentation des modèles, de la génération des données, des graphiques, etc."
   ]
  },
  {
   "cell_type": "code",
   "execution_count": null,
   "metadata": {},
   "outputs": [],
   "source": [
    "%load_ext autoreload\n",
    "%autoreload 2"
   ]
  },
  {
   "cell_type": "code",
   "execution_count": null,
   "metadata": {},
   "outputs": [],
   "source": [
    "import matplotlib.pyplot as plt\n",
    "import numpy as np\n",
    "import numpy.random as nprd\n",
    "\n",
    "import smc_movement_models.data_generator as dg\n",
    "import smc_movement_models.graph_values as gv"
   ]
  },
  {
   "cell_type": "code",
   "execution_count": null,
   "metadata": {},
   "outputs": [],
   "source": [
    "ts = dg.generate_ts(num=5000)\n",
    "a1s, a2s, ses, s0s = dg.interpolate_graphs(ts)\n",
    "# yt, et, xt, nt = dg.generate_x_tilde(ts, ses, s0s, sv=1e-4, seed=2)"
   ]
  },
  {
   "cell_type": "code",
   "execution_count": null,
   "metadata": {},
   "outputs": [],
   "source": [
    "a1 = {\n",
    "    0: 1.2,\n",
    "    1: 1.5,\n",
    "    5: 1.5,\n",
    "    6: 1.2,\n",
    "    8: 1,\n",
    "    9: 0,\n",
    "    11: 0,\n",
    "    11.5: 0,\n",
    "    12: 0.25,\n",
    "    12.5: 0.1,\n",
    "    14: 0.9,\n",
    "    15: 0.8,\n",
    "    16: 0.9,\n",
    "    18: 0,\n",
    "    19.5: 0,\n",
    "    20: -0.1,\n",
    "    21: 0.25,\n",
    "    23: 0,\n",
    "    24: 0.85,\n",
    "}\n",
    "\n",
    "a2 = {\n",
    "    0: -0.4,\n",
    "    1: -0.6,\n",
    "    3: -0.55,\n",
    "    4: -0.6,\n",
    "    6: -0.6,\n",
    "    7: -0.3,\n",
    "    8: -0.2,\n",
    "    9: 0.05,\n",
    "    9.5: -0.05,\n",
    "    10: 0,\n",
    "    12: 0,\n",
    "    12.5: 0.15,\n",
    "    13: 0.05,\n",
    "    15: 0.2,\n",
    "    16: 0.1,\n",
    "    16.5: 0.2,\n",
    "    18: -0.05,\n",
    "    19: 0,\n",
    "    20: 0.1,\n",
    "    22: 0.15,\n",
    "    23: 0,\n",
    "    24: 0.15,\n",
    "}\n",
    "\n",
    "se = {\n",
    "    0: 0.18,\n",
    "    0.5: 0.17,\n",
    "    1: 0.14,\n",
    "    2: 0.18,\n",
    "    2.5: 0.15,\n",
    "    3: 0.17,\n",
    "    3.5: 0.15,\n",
    "    4: 0.195,\n",
    "    4.5: 0.15,\n",
    "    5: 0.195,\n",
    "    5.5: 0.155,\n",
    "    6: 0.175,\n",
    "    6.5: 0.125,\n",
    "    7: 0.1,\n",
    "    8: 0.04,\n",
    "    9: 0.095,\n",
    "    10: 0.03,\n",
    "    12: 0.03,\n",
    "    12.5: 0.045,\n",
    "    13: 0.03,\n",
    "    14.2: 0.03,\n",
    "    15: 0.05,\n",
    "    15.5: 0.03,\n",
    "    16: 0.1,\n",
    "    16.5: 0.11,\n",
    "    17: 0.03,\n",
    "    24: 0.03,\n",
    "}\n",
    "\n",
    "s0 = {\n",
    "    0: 0.06,\n",
    "    0.5: 0.05,\n",
    "    1: 0.05,\n",
    "    1.5: 0.035,\n",
    "    2: 0.035,\n",
    "    2.5: 0.06,\n",
    "    3: 0.025,\n",
    "    3.5: 0.045,\n",
    "    3.7: 0.03,\n",
    "    4: 0.05,\n",
    "    4.5: 0.03,\n",
    "    5: 0.06,\n",
    "    5.5: 0.05,\n",
    "    6: 0.07,\n",
    "    6.5: 0.05,\n",
    "    8: 0.0015,\n",
    "    9: 0.045,\n",
    "    9.5: 0.01,\n",
    "    10: 0.01,\n",
    "    11: 0.01,\n",
    "    12: 0.015,\n",
    "    12.5: 0.025,\n",
    "    13: 0.015,\n",
    "    14: 0.016,\n",
    "    14.5: 0.0155,\n",
    "    15: 0.025,\n",
    "    15.5: 0.015,\n",
    "    16.2: 0.04,\n",
    "    17: 0.005,\n",
    "    20: 0.0045,\n",
    "    21: 0.0055,\n",
    "    23: 0.0045,\n",
    "    24: 0.01,\n",
    "}\n",
    "\n",
    "sv = 0.1"
   ]
  },
  {
   "cell_type": "code",
   "execution_count": null,
   "metadata": {},
   "outputs": [],
   "source": [
    "fig, (ax1, ax2, ax3) = plt.subplots(3, 1)\n",
    "ax1.plot(gv.se.keys(), gv.se.values(), marker=\"d\", label=r\"$\\hat{\\sigma}_{\\varepsilon}^2$\")\n",
    "ax1.plot(gv.s0.keys(), gv.s0.values(), marker=\"v\", label=r\"$\\hat{\\sigma}_{o}^2$\")\n",
    "ax2.plot(gv.a1.keys(), gv.a1.values(), label=\"a1\")\n",
    "ax2.axhline(y=0, ls=\"--\")\n",
    "ax3.plot(gv.a2.keys(), gv.a2.values(), label=\"a2\")\n",
    "ax3.axhline(y=0, ls=\"--\")\n",
    "ax1.legend()\n",
    "ax2.legend()\n",
    "ax3.legend()"
   ]
  },
  {
   "cell_type": "code",
   "execution_count": null,
   "metadata": {},
   "outputs": [],
   "source": [
    "ts = np.arange(0, 24.01, 0.005)\n",
    "a1s = np.interp(x=ts, xp=list(a1.keys()), fp=list(a1.values()))\n",
    "a2s = np.interp(x=ts, xp=list(a2.keys()), fp=list(a2.values()))\n",
    "ses = np.interp(x=ts, xp=list(se.keys()), fp=list(se.values()))\n",
    "s0s = np.interp(x=ts, xp=list(s0.keys()), fp=list(s0.values()))"
   ]
  },
  {
   "cell_type": "code",
   "execution_count": null,
   "metadata": {},
   "outputs": [],
   "source": [
    "nprd.seed(4)\n",
    "\n",
    "ts = dg.generate_ts(num=10000)\n",
    "a1s, a2s, ses, s0s = dg.interpolate_graphs(ts, se=gv.se)\n",
    "\n",
    "z0 = -0.1\n",
    "z1 = -0.2\n",
    "sv = 0.001\n",
    "zs = [z0, z1]\n",
    "xs = [0, -0.1]\n",
    "a1sb = a1s + nprd.normal(scale=np.sqrt(sv), size=a1s.shape[0])\n",
    "a2sb = a2s + nprd.normal(scale=np.sqrt(sv), size=a2s.shape[0])\n",
    "veps = nprd.normal(scale=np.sqrt(ses))\n",
    "\n",
    "n = len(ts)\n",
    "for i in range(n - 2):\n",
    "    # z = (\n",
    "    #     (a1s[i] + nprd.normal(scale=np.sqrt(sv))) * zs[-1]\n",
    "    #     + (a2s[i] + nprd.normal(scale=sv)) * zs[-2]\n",
    "    #     + nprd.normal(scale=np.sqrt(ses[i]))\n",
    "    # )\n",
    "\n",
    "    z = a1sb[i] * zs[-1] + a2sb[i] * zs[-2] + veps[i]\n",
    "\n",
    "    if z + xs[-1] > 0:\n",
    "        z = -xs[-1]\n",
    "\n",
    "    zs.append(z)\n",
    "    xs.append(z + xs[-1])\n",
    "\n",
    "zs = np.array(zs)\n",
    "xs = np.array(xs)"
   ]
  },
  {
   "cell_type": "code",
   "execution_count": null,
   "metadata": {},
   "outputs": [],
   "source": [
    "fig, (ax1, ax2, ax3, ax4) = plt.subplots(4, 1)\n",
    "ax1.plot(ts, zs, label=\"Velocity\")\n",
    "ax1.axhline(y=0, ls=\"--\")\n",
    "ax1.legend()\n",
    "\n",
    "ax2.plot(ts, np.cumsum(zs), label=\"Altitude\")\n",
    "ax2.axhline(y=0, ls=\"--\")\n",
    "ax2.legend()\n",
    "\n",
    "ax3.plot(ts, a1s, label=\"a1\")\n",
    "ax3.plot(ts, a2s, label=\"a2\")\n",
    "ax3.legend()\n",
    "\n",
    "ax4.plot(ts, ses, label=r\"$\\sigma_{\\varepsilon}$\")\n",
    "ax4.axhline(y=0, ls=\"--\")\n",
    "ax4.legend()"
   ]
  },
  {
   "cell_type": "code",
   "execution_count": null,
   "metadata": {},
   "outputs": [],
   "source": [
    "plt.plot(ts, np.cumsum(zs))\n",
    "plt.axhline(y=0, ls=\"--\")"
   ]
  },
  {
   "cell_type": "code",
   "execution_count": null,
   "metadata": {},
   "outputs": [],
   "source": [
    "y0 = 0\n",
    "ys = [y0]\n",
    "\n",
    "for z in (zs)[:-1]:\n",
    "    y = ys[-1] + z\n",
    "    ys.append(y)"
   ]
  },
  {
   "cell_type": "code",
   "execution_count": null,
   "metadata": {},
   "outputs": [],
   "source": [
    "plt.plot(ts, ys)"
   ]
  }
 ],
 "metadata": {
  "kernelspec": {
   "display_name": "Python 3.10.8 ('smc-movement-models-S0yC87zM-py3.10')",
   "language": "python",
   "name": "python3"
  },
  "language_info": {
   "codemirror_mode": {
    "name": "ipython",
    "version": 3
   },
   "file_extension": ".py",
   "mimetype": "text/x-python",
   "name": "python",
   "nbconvert_exporter": "python",
   "pygments_lexer": "ipython3",
   "version": "3.10.8"
  },
  "orig_nbformat": 4,
  "vscode": {
   "interpreter": {
    "hash": "5418fe37f9f3eb94898a27ba4ce2cf842e70225e29d3fe7c8ea46cd59e660c81"
   }
  }
 },
 "nbformat": 4,
 "nbformat_minor": 2
}
