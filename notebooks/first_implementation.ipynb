{
 "cells": [
  {
   "cell_type": "markdown",
   "metadata": {},
   "source": [
    "# Première implementation des modèles\n",
    "\n",
    "Ce notebook est fait pour faire des tests sur l'implémentation des modèles, de la génération des données, des graphiques, etc."
   ]
  },
  {
   "cell_type": "code",
   "execution_count": 1,
   "metadata": {},
   "outputs": [],
   "source": [
    "import numpy as np"
   ]
  }
 ],
 "metadata": {
  "kernelspec": {
   "display_name": "Python 3.10.8 ('smc-movement-models-S0yC87zM-py3.10')",
   "language": "python",
   "name": "python3"
  },
  "language_info": {
   "codemirror_mode": {
    "name": "ipython",
    "version": 3
   },
   "file_extension": ".py",
   "mimetype": "text/x-python",
   "name": "python",
   "nbconvert_exporter": "python",
   "pygments_lexer": "ipython3",
   "version": "3.10.8"
  },
  "orig_nbformat": 4,
  "vscode": {
   "interpreter": {
    "hash": "5418fe37f9f3eb94898a27ba4ce2cf842e70225e29d3fe7c8ea46cd59e660c81"
   }
  }
 },
 "nbformat": 4,
 "nbformat_minor": 2
}
